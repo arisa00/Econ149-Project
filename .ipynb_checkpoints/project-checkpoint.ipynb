{
 "cells": [
  {
   "cell_type": "markdown",
   "metadata": {},
   "source": [
    "                                                            Final Project\n",
    "\n",
    "Project Overview:\n",
    "\n",
    "The purpose of this project is to see the relationship of GDP (Gross domestic product) and Net Exports of Goods and Services (NETEXP) for the entire U.S. The macroeconomics theory states that there is a positive relationship between GDP and NETEXP. In this project, we have time series data of price level and NETEXP for the U.S. We will use linear regression analysis to test this theory.\n",
    "\n",
    "Project Structure:\n",
    "\n",
    "The project will start by providing a data report. The data report will explain where the data comes from and how to access the data.\n",
    "\n",
    "The second part of the project will provide summary statistics about GDP and NETEXP trends and provide visualizations of these statistics to help further illustrate the project.\n",
    "\n",
    "The third part of the project will state a hypothesis and compared with trends in previous scholarship. Then, a linear regression will be performed to test the hypothesis and the results will be stated. Lastly, there will be a detailed discussion of the results and how it follows or goes against previous scholarship.\n",
    "\n",
    "Data Report:\n",
    "\n",
    "The data for this project comes from the Federal Reserve Economic Data website (FRED). FRED provides monthly data on the U.S. GDP (where we will commute inflation), inflation, Net Exports of Goods and Services (NETEXP), Government Consumption Expenditures and Gross Investment (GCE) (it will serve as a control variable in our analysis) from 1948 onward, and it identifies times of periods of economic contraction. The data can be accessed at https://fred.stlouisfed.org/ \n",
    "\n",
    "Key Variables:\n",
    "\n",
    "The four key variables are U.S. GDP, inflation, Net Exports of Goods and Services (NETEXP), Government Consumption Expenditures and Gross Investment (GCE). FRED defines GDP as the following: “Gross domestic product (GDP), the featured measure of U.S. output, is the market value of the goods and services produced by labor and property located in the United States.” The data presents the statement based on 50 states, the District of Columbia, and U.S. military installations, embassies, and consulates abroad. To calculate GDP, we will use expenditures approach to sum up goods and services sold to final users. The index measures price changes (from a predetermined reference date). In addition to the original unadjusted index distributed, the Bureau of Labor Statistics also releases a seasonally adjusted index. The unadjusted series reflects all factors that may influence a change in prices. However, it can be very useful to look at the seasonally adjusted GDP, which removes the effects of seasonal changes, such as weather or holidays.\n",
    "\n",
    "Inflation rate is defined as the percentage change in CPI from one period to the previous period: inflation=(GDP_t-GDP_t-1)/GDP_t-1.\n",
    "\n",
    "FRED defines Net Exports of Goods and Services (NETEXP) as the following: “Net exports of goods and services is the difference between U.S. exports of goods and services.”\n",
    "\n",
    "FRED defines the Government Consumption Expenditures and Gross Investment (GCE) as the following: “Government consumption expenditures and gross investment is the measure of the portion of final expenditures that is accounted for by the government sector.” \n"
   ]
  },
  {
   "cell_type": "code",
   "execution_count": null,
   "metadata": {},
   "outputs": [],
   "source": []
  }
 ],
 "metadata": {
  "kernelspec": {
   "display_name": "Python 3",
   "language": "python",
   "name": "python3"
  },
  "language_info": {
   "codemirror_mode": {
    "name": "ipython",
    "version": 3
   },
   "file_extension": ".py",
   "mimetype": "text/x-python",
   "name": "python",
   "nbconvert_exporter": "python",
   "pygments_lexer": "ipython3",
   "version": "3.8.3"
  }
 },
 "nbformat": 4,
 "nbformat_minor": 4
}
