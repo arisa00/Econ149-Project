{
 "cells": [
  {
   "cell_type": "markdown",
   "metadata": {},
   "source": [
    "                                                            Final Project\n",
    "Project Overview: \n",
    "\n",
    "This project will utilize the data coming from the Bureau of Economic Analysis U.S to find out the influence of three significant variables to GDP:Net Exports of Goods and Services (NETEXP) will increase exporting GDP, Change in Private Inventories (CBI) will inversely affect GDP, Government Consumption Expenditures and Gross Investment (GCE) will boost GDP. As stated, all these data present the statement based on 50 states, the District of Columbia, and U.S. military installations, embassies, and consulates abroad (Chapter 8, 8-14) and the period from the year of 1947 to 2020. \n",
    "As an example, think about Washington D.C., its GDP has realized a steady growth rate from 1998 to 2020 recovered from the Post WWII period of 1947, as rising living standards provide support for overcoming depression. Today, few states and cities can realize such a superior position than Washington D.C. This project will clearly present these fluctuations."
   ]
  },
  {
   "cell_type": "code",
   "execution_count": null,
   "metadata": {},
   "outputs": [],
   "source": []
  }
 ],
 "metadata": {
  "kernelspec": {
   "display_name": "Python 3",
   "language": "python",
   "name": "python3"
  },
  "language_info": {
   "codemirror_mode": {
    "name": "ipython",
    "version": 3
   },
   "file_extension": ".py",
   "mimetype": "text/x-python",
   "name": "python",
   "nbconvert_exporter": "python",
   "pygments_lexer": "ipython3",
   "version": "3.8.3"
  }
 },
 "nbformat": 4,
 "nbformat_minor": 4
}
